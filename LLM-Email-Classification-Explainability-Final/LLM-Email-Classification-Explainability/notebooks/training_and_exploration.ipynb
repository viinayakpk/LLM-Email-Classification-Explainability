
# Training and Exploration Notebook
In this notebook, you'll fine-tune the DistilBERT model on the phishing email dataset and test its performance.

### Steps:
1. Load dataset and preprocess
2. Fine-tune the model using transformers
3. Evaluate the model and save the trained model
